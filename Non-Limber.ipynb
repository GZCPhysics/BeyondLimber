{
 "cells": [
  {
   "cell_type": "code",
   "execution_count": 2,
   "metadata": {},
   "outputs": [
    {
     "name": "stdout",
     "output_type": "stream",
     "text": [
      "Using CAMB 1.0.4 installed at /Users/cheng/anaconda3/lib/python3.7/site-packages/camb-1.0.4-py3.7.egg/camb\n"
     ]
    },
    {
     "name": "stderr",
     "output_type": "stream",
     "text": [
      "WARNING:root:get_matter_power_spectrum using larger k_max than input parameter Transfer.kmax\n"
     ]
    },
    {
     "name": "stdout",
     "output_type": "stream",
     "text": [
      "0.0001\n",
      "396.8\n"
     ]
    },
    {
     "name": "stderr",
     "output_type": "stream",
     "text": [
      "/Users/cheng/anaconda3/lib/python3.7/site-packages/pandas/compat/_optional.py:138: UserWarning: Pandas requires version '2.7.0' or newer of 'numexpr' (version '2.6.9' currently installed).\n",
      "  warnings.warn(msg, UserWarning)\n"
     ]
    }
   ],
   "source": [
    "\n",
    "import FullSkyCalculation as FSC\n",
    "import numpy as np\n",
    "from matplotlib import pyplot as plt\n",
    "from scipy.integrate import quad, dblquad\n",
    "from scipy.interpolate import interp1d\n",
    "import scipy.fft\n",
    "import cmath\n",
    "import mpmath as mm"
   ]
  },
  {
   "cell_type": "code",
   "execution_count": 2,
   "metadata": {},
   "outputs": [
    {
     "data": {
      "text/plain": [
       "0.8374759699653609"
      ]
     },
     "execution_count": 2,
     "metadata": {},
     "output_type": "execute_result"
    }
   ],
   "source": [
    "FSC.s8"
   ]
  },
  {
   "cell_type": "code",
   "execution_count": 8,
   "metadata": {},
   "outputs": [],
   "source": [
    "import OurApproximation as OA\n",
    "Power_spectrum = OA.Power_spectrum\n",
    "kh_par_min_max = OA.kh_par_min_max"
   ]
  },
  {
   "cell_type": "markdown",
   "metadata": {},
   "source": [
    "### **Test power spectrum as a function of $k_{//}$:**"
   ]
  },
  {
   "cell_type": "code",
   "execution_count": 162,
   "metadata": {},
   "outputs": [
    {
     "name": "stdout",
     "output_type": "stream",
     "text": [
      "2288.9234085972853\n"
     ]
    }
   ],
   "source": [
    "l=500\n",
    "chi = FSC.chi(1.0)\n",
    "kh_min, kh_max = kh_par_min_max(l,chi)\n",
    "print(chi)"
   ]
  },
  {
   "cell_type": "code",
   "execution_count": 163,
   "metadata": {},
   "outputs": [],
   "source": [
    "N = 1000\n",
    "kh_par_array = np.array(list(-10**np.array([np.log10(1e-8)+np.log10(kh_max/1e-8)*2/N*i for i in range(int(N/2))]))[::-1]+\\\n",
    "    list(10**np.array([np.log10(1e-8)+np.log10(kh_max/1e-8)*2/N*i for i in range(int(N/2))])))\n",
    "\n",
    "kh_par = np.fft.fftshift(kh_par_array)\n"
   ]
  },
  {
   "cell_type": "code",
   "execution_count": 164,
   "metadata": {},
   "outputs": [
    {
     "data": {
      "text/plain": [
       "Text(0.5, 1.0, '$\\\\ell$=10,z=1.0,$\\\\delta\\\\chi=0$')"
      ]
     },
     "execution_count": 164,
     "metadata": {},
     "output_type": "execute_result"
    },
    {
     "data": {
      "image/png": "[encoded data removed]",
      "text/plain": [
       "<Figure size 432x288 with 1 Axes>"
      ]
     },
     "metadata": {},
     "output_type": "display_data"
    }
   ],
   "source": [
    "#Here we plot the power spectrum as a function of k_par, where we temporarily fix the l, \\chi and \\delta\\chi\n",
    "plt.style.use('dark_background')\n",
    "power_array = np.array([Power_spectrum(kh, l, chi, 0) for kh in kh_par_array])\n",
    "plt.loglog(kh_par_array[501:], power_array[501:])\n",
    "plt.xticks(fontsize=15)\n",
    "plt.yticks(fontsize=15)\n",
    "plt.xlabel(r'$k_{//}\\rm\\, [h\\ Mpc^{-1}]$',fontsize=15)\n",
    "plt.ylabel(r'$P(k_{//},\\ell, \\chi, \\delta\\chi)\\rm\\ [(Mpc/h)^{3}]$',fontsize=15)\n",
    "plt.title(r'$\\ell$=10,z=1.0,$\\delta\\chi=0$')"
   ]
  },
  {
   "cell_type": "markdown",
   "metadata": {},
   "source": [
    "### **Test of Fourier Transformation:**"
   ]
  },
  {
   "cell_type": "code",
   "execution_count": 103,
   "metadata": {},
   "outputs": [],
   "source": [
    "def C_fft(l, chi, delta_chi):\n",
    "    '''\n",
    "    Here we use the FFT algorithm to calculate the Equation(34), which formally a 1D Fourier transformation\n",
    "    N here is the number of discrete points that we need.\n",
    "    '''\n",
    "    #Creat power spectrum array in respect of k_par\n",
    "    kh_par_min, kh_par_max = 0,20 #kh_par_min_max(l, chi)\n",
    "    if delta_chi>=40:\n",
    "        dkh_crit = 2*np.pi/delta_chi/10\n",
    "        N_crit = int(kh_par_max/dkh_crit)\n",
    "        if N_crit>10000:\n",
    "            dkh = 2*np.pi/delta_chi/2.5\n",
    "            N = int(kh_par_max/dkh)\n",
    "        else:\n",
    "            dkh = dkh_crit\n",
    "            N = N_crit\n",
    "    else:\n",
    "        dkh = kh_par_max/5000\n",
    "        N = 5000\n",
    "    #print('Number of Samples:', N)\n",
    "    #N = int((k_par_max-k_par_min)/dk)\n",
    "    #k_par_array =np.array(list(-10**np.array([np.log10(k_par_min+1e-8) + (np.log10(k_par_max/1e-8)*2/N)*i for i in range(int(N/2))]))[::-1]+\\\n",
    "                #list(10**np.array([np.log10(k_par_min+1e-8) + (np.log10(k_par_max/1e-8)*2/N)*i for i in range(int(N/2))])))\n",
    "    #k_par_array = np.array([-k_par_max + k_par_max*2/N*i for i in range(int(N/2))]+[k_par_min + k_par_max*2/N*i for i in range(int(N/2))])\n",
    "    kh_par_array = [-dkh*N/2 + dkh*i for i in range(N)]\n",
    " \n",
    "    kh_par = scipy.fft.fftshift(kh_par_array)\n",
    "    power_array = [Power_spectrum(kh, l, chi, delta_chi) for kh in kh_par]\n",
    "    C_array = scipy.fft.fftshift(scipy.fft.ifft(power_array))\n",
    "    w_array = scipy.fft.fftshift(scipy.fft.fftfreq(len(power_array))*2*np.pi/dkh)\n",
    "    C_array *= [N*dkh*cmath.exp(1j*w*kh_par_min).real/(2*np.pi) for w in w_array]\n",
    "\n",
    "    C_fft_func = interp1d(w_array, np.real(C_array))\n",
    "    return C_fft_func(delta_chi) #w_array, C_array #C_fft_func(delta_chi) ##,k_par_array, power_array"
   ]
  },
  {
   "cell_type": "code",
   "execution_count": null,
   "metadata": {},
   "outputs": [],
   "source": [
    "w_array, C_array = C_fft(l,chi,500)\n",
    "plt.plot(w_array, C_array)\n",
    "plt.xlim(-600,600)"
   ]
  },
  {
   "cell_type": "code",
   "execution_count": 16,
   "metadata": {},
   "outputs": [
    {
     "name": "stdout",
     "output_type": "stream",
     "text": [
      "237.94063538874715\n"
     ]
    }
   ],
   "source": [
    "#Besides the value at delta_chi=500, we consider the direct integral over the power spectrum, which should be the same value of delta_chi=0 in the above Fourier transformation\n",
    "from scipy.integrate import trapezoid\n",
    "integral_Pk = trapezoid(power_array, kh_par_array)/(2*np.pi)\n",
    "print(integral_Pk)"
   ]
  },
  {
   "cell_type": "code",
   "execution_count": null,
   "metadata": {},
   "outputs": [],
   "source": [
    "w_array0, C_array0 = C_fft(l,chi,0)\n",
    "plt.plot(w_array0, C_array0)\n",
    "plt.xlim(-600,600)"
   ]
  },
  {
   "cell_type": "code",
   "execution_count": 17,
   "metadata": {},
   "outputs": [
    {
     "name": "stdout",
     "output_type": "stream",
     "text": [
      "237.94063538874715\n"
     ]
    }
   ],
   "source": [
    "integral_Pk0 = trapezoid(power_array, kh_par_array)/(2*np.pi)\n",
    "print(integral_Pk0)"
   ]
  },
  {
   "cell_type": "code",
   "execution_count": 19,
   "metadata": {},
   "outputs": [
    {
     "name": "stdout",
     "output_type": "stream",
     "text": [
      "224.6595909092653\n"
     ]
    }
   ],
   "source": [
    "C_interp = interp1d(w_array0, C_array0.real)\n",
    "print(C_interp(0))\n",
    "#The comparison between the expected calcuation value and "
   ]
  },
  {
   "cell_type": "markdown",
   "metadata": {},
   "source": [
    "### **Consider Integral for l=2**"
   ]
  },
  {
   "cell_type": "code",
   "execution_count": 169,
   "metadata": {},
   "outputs": [],
   "source": [
    "dchi_new = np.array([40/10*i for i in range(10)]+[40+(100-40)/6*i for i in range(6)])\n",
    "C_l_500 = np.array([ C_fft(l=500, chi=chi_array[10], delta_chi=dchi) for dchi in dchi_new])"
   ]
  },
  {
   "cell_type": "code",
   "execution_count": 173,
   "metadata": {},
   "outputs": [
    {
     "name": "stdout",
     "output_type": "stream",
     "text": [
      "[  0.  10.  20.  30.  40.  50.  60.  70.  80.  90. 100. 200. 300. 400.\n",
      " 500.]\n",
      "[ 6.17345063e+01  6.56853023e+00  6.63539654e-01  2.17836856e-01\n",
      "  5.28805384e-02 -7.94495559e-03 -4.52162195e-03 -4.54265138e-04\n",
      " -5.03815603e-04 -3.91003537e-04  9.67482616e-04 -3.09798406e-04\n",
      "  4.75153730e-04  2.21603835e-04  5.86628491e-04]\n",
      "[ 0.  4.  8. 12. 16. 20. 24. 28. 32. 36. 40. 50. 60. 70. 80. 90.]\n",
      "[ 6.17345063e+01  2.73067862e+01  1.06198611e+01  4.05189757e+00\n",
      "  1.55539316e+00  6.63539654e-01  3.70372018e-01  2.57781676e-01\n",
      "  1.80547483e-01  1.11522281e-01  5.28805384e-02 -7.94495559e-03\n",
      " -4.52162195e-03 -4.54265138e-04 -5.03815603e-04 -3.91003537e-04]\n",
      "2288.9234085972853\n"
     ]
    }
   ],
   "source": [
    "print(delta_chi_array)\n",
    "print(Cl_500[:,10])\n",
    "print(dchi_new)\n",
    "print(C_l_500)\n",
    "print(chi_array[10])"
   ]
  },
  {
   "cell_type": "code",
   "execution_count": 175,
   "metadata": {},
   "outputs": [
    {
     "data": {
      "text/plain": [
       "Text(0.5, 1.0, '$\\\\ell=500,\\\\ z(\\\\chi)=1.0$')"
      ]
     },
     "execution_count": 175,
     "metadata": {},
     "output_type": "execute_result"
    },
    {
     "data": {
      "image/png": "[encoded data removed]",
      "text/plain": [
       "<Figure size 432x288 with 1 Axes>"
      ]
     },
     "metadata": {},
     "output_type": "display_data"
    }
   ],
   "source": [
    "#Here I tried to test the convergence of C_fft function by change different numbers of DFT grids\n",
    "#plt.semilogx(delta_chi_array[1:], C_l_10_chi_2280[1:],'--')\n",
    "Cl_500 = np.load('./C_ell/C_l_500.npy')\n",
    "plt.loglog(delta_chi_array, Cl_500[:,1])\n",
    "plt.loglog(dchi_new, C_l_500,'--')\n",
    "plt.xlabel(r'$\\rm \\delta \\chi\\ [Mpc/h]$',fontsize=15)\n",
    "plt.ylabel(r'C',fontsize=15)\n",
    "plt.xticks(fontsize=15)\n",
    "plt.yticks(fontsize=15)\n",
    "plt.title(r'$\\ell=%d,\\ z(\\chi)=1.0$'%l)"
   ]
  },
  {
   "cell_type": "markdown",
   "metadata": {},
   "source": [
    "### **Consider two galaxy clustering power spectrum at $z_1=z_2=1.0$, $\\sigma_1=\\sigma_2=0.05$:**"
   ]
  },
  {
   "cell_type": "code",
   "execution_count": 7,
   "metadata": {},
   "outputs": [],
   "source": [
    "#Now we test the C function calculation z1=z2=1.0, sigma1=sigma2=0.05\n",
    "z1 = 1.0\n",
    "z2 = 1.0\n",
    "sigma1 = 0.05\n",
    "sigma2 = 0.05\n",
    "chi_avg1 = FSC.chi(z1)\n",
    "chi_avg2 = FSC.chi(z2)\n",
    "chi_sigma1 = sigma1/FSC.HH(z1)\n",
    "chi_sigma2 = sigma2/FSC.HH(z2)\n",
    "chi_min = chi_avg1-4*chi_sigma1\n",
    "chi_max = chi_avg2+4*chi_sigma2\n",
    "#So here we fix the chi in our power spectrum function, while vary the delta chi\n",
    "N_chi_array = 20\n",
    "chi_array = np.array([chi_min + i*(chi_max-chi_min)/N_chi_array for i in range(N_chi_array)])\n",
    "\n",
    "N_delta_chi_array = 15\n",
    "delta_chi_array = np.array([100/10*i for i in range(10)]+[100+500/5*i for i in range(5)])\n",
    "\n",
    "l_array_short = np.array([int(2 + i) for i in range(8)] + [int(10 + 10 * i) for i in range(9)] + [int(100+50*i) for i in range(10)])\n",
    "l_array_short_new = np.array([2, 5, 10, 20, 40, 80, 100 ,150, 200, 300, 500])\n"
   ]
  },
  {
   "cell_type": "markdown",
   "metadata": {},
   "source": [
    "### **Create $C(\\ell,\\chi,\\delta\\chi)$ files on grids of $\\chi$ and $\\delta\\chi$:**"
   ]
  },
  {
   "cell_type": "code",
   "execution_count": 135,
   "metadata": {},
   "outputs": [
    {
     "name": "stdout",
     "output_type": "stream",
     "text": [
      "Saved file for l=5\n",
      "Saved file for l=20\n",
      "Saved file for l=40\n",
      "Saved file for l=80\n",
      "Saved file for l=150\n",
      "Saved file for l=200\n",
      "Saved file for l=300\n",
      "Saved file for l=500\n"
     ]
    }
   ],
   "source": [
    "#One way to improve the integral is to firstly generate files of C_l as a function of chi and delta_chi\n",
    "for l in l_array_short_new:\n",
    "    Cl_delta_chi = []\n",
    "    for delta_chi_x in delta_chi_array:\n",
    "        Cl_chi = []\n",
    "        for chi_x in chi_array:\n",
    "            Cl_chi.append(C_fft(l, chi_x, delta_chi_x))\n",
    "        Cl_delta_chi.append(Cl_chi)\n",
    "    np.save('./C_ell/C_l_%d'%l, Cl_delta_chi)\n",
    "    print('Saved file for l=%d'%l)\n",
    "    "
   ]
  },
  {
   "cell_type": "markdown",
   "metadata": {},
   "source": [
    "### **Finish the calculation of Equation(34) based on files generated above:**"
   ]
  },
  {
   "cell_type": "code",
   "execution_count": 136,
   "metadata": {},
   "outputs": [],
   "source": [
    "from scipy.interpolate import interp2d\n",
    "delta_extend = list(-delta_chi_array[1:][::-1])+[0]+ list(delta_chi_array[1:])\n",
    "\n",
    "def intergral_kernel(l, chi, delta_chi, n):\n",
    "    '''\n",
    "    n is the order of Cl^n, as defined in Equation(33)\n",
    "    '''\n",
    "    #Here we have extended our data to negative delta_chi part, which based on the symetric property of our equation\n",
    "    delta_extend = list(-delta_chi_array[1:][::-1])+[0]+ list(delta_chi_array[1:])\n",
    "    Cl_array = np.load('./C_ell/C_l_%d.npy'%l)\n",
    "    Nx = len(Cl_array[0,:])\n",
    "    Ny = len(Cl_array[:,0])\n",
    "    Cl_extend = np.zeros(( Ny*2-1, Nx))\n",
    "    for i in range(len(Cl_extend[0,:])):\n",
    "        for j in range(len(Cl_array[:,0])):\n",
    "            Cl_extend[j,i] = Cl_array[::-1][j,i]\n",
    "            Cl_extend[Ny-1+j,i] = Cl_array[j,i]\n",
    "    \n",
    "    #Now define the whole function and perform 2D integral\n",
    "    #Get C_\\ell(l=2, \\chi, \\delta\\chi) from our data to \n",
    "    Cl_chi_dchi = interp2d(chi_array, delta_extend, Cl_extend)\n",
    "    \n",
    "    Wg1 = Wg(chi-0.5*delta_chi, chi_avg1, chi_sigma1)\n",
    "    Wg2 = Wg(chi+0.5*delta_chi, chi_avg1, chi_sigma1)\n",
    "    Cl = Cl_chi_dchi(chi, delta_chi)\n",
    "\n",
    "    return Wg1*Wg2*Cl*(delta_chi/chi)**n/chi**2\n",
    "\n",
    "def Cl_n(n, l):\n",
    "\n",
    "    return dblquad(lambda y, x: intergral_kernel(l, y, x, n), delta_extend[0], delta_extend[-1], chi_array[0], chi_array[-1])[0]\n"
   ]
  },
  {
   "cell_type": "markdown",
   "metadata": {},
   "source": [
    "### **Calculate our approximation for different $\\ell s$**"
   ]
  },
  {
   "cell_type": "code",
   "execution_count": 154,
   "metadata": {},
   "outputs": [],
   "source": [
    "Cl_0_array = [Cl_n(0,l) for l in l_array_short_new]"
   ]
  },
  {
   "cell_type": "code",
   "execution_count": 156,
   "metadata": {},
   "outputs": [],
   "source": [
    "Cl_1_array = [Cl_n(1,l) for l in l_array_short_new]"
   ]
  },
  {
   "cell_type": "code",
   "execution_count": 157,
   "metadata": {},
   "outputs": [
    {
     "data": {
      "text/plain": [
       "[-9.471338527813229e-28,\n",
       " 1.845088680629561e-29,\n",
       " 4.735669263906614e-28,\n",
       " -6.420965347648419e-30,\n",
       " 4.613523045466865e-25,\n",
       " 8.166377682391567e-29,\n",
       " -7.802688728561064e-28,\n",
       " 4.251829573651597e-28,\n",
       " -2.883377375620577e-26,\n",
       " 0.0,\n",
       " 1.6645124563326503e-30]"
      ]
     },
     "execution_count": 157,
     "metadata": {},
     "output_type": "execute_result"
    }
   ],
   "source": [
    "Cl_1_array"
   ]
  },
  {
   "cell_type": "markdown",
   "metadata": {},
   "source": [
    "### **Read the results from Assassi's Calculation:**"
   ]
  },
  {
   "cell_type": "code",
   "execution_count": 4,
   "metadata": {},
   "outputs": [],
   "source": [
    "\n",
    "l_Assassi = []\n",
    "Cl_Assassi = []\n",
    "\n",
    "with open('./z1_z2_1 copy.txt','r') as file:\n",
    "    lines = file.readlines()\n",
    "    for line in lines:\n",
    "        l, C = line.split(',')\n",
    "        l_Assassi.append(int(l))\n",
    "        Cl_Assassi.append(float(C.strip('\\n')))\n",
    "\n",
    "file.close()\n",
    "        \n",
    "\n"
   ]
  },
  {
   "cell_type": "markdown",
   "metadata": {},
   "source": [
    "### **Plot the comparison between all three methods:**"
   ]
  },
  {
   "cell_type": "code",
   "execution_count": 155,
   "metadata": {},
   "outputs": [
    {
     "data": {
      "image/png": "[encoded data removed]",
      "text/plain": [
       "<Figure size 432x288 with 1 Axes>"
      ]
     },
     "metadata": {},
     "output_type": "display_data"
    }
   ],
   "source": [
    "plt.loglog(l_array_short_new, np.array(Cl_0_array)*1e6, '*', label=r'OurApprox')\n",
    "plt.loglog(l_limber_array, Cl_Limber_array*1e6, '--', label=r'Limber')\n",
    "plt.loglog(l_Assassi, np.array(Cl_Assassi)*1e6,'-.', label=r'AssassiApprox')\n",
    "plt.ylim(0.3,10)\n",
    "plt.xlim(2,500)\n",
    "plt.legend()\n",
    "plt.xlabel(r'$\\ell$',fontsize=15)\n",
    "plt.ylabel(r'$C_{\\ell}^{g}\\ (\\times 10^6)$', fontsize=15)\n",
    "plt.xticks(fontsize=15)\n",
    "plt.yticks(fontsize=15)\n",
    "plt.title(r'For $\\rm z_1=z_2=1.0\\ and\\ \\sigma_z=0.05$')\n",
    "plt.show()"
   ]
  },
  {
   "cell_type": "code",
   "execution_count": 11,
   "metadata": {},
   "outputs": [
    {
     "data": {
      "image/png": "[encoded data removed]",
      "text/plain": [
       "<Figure size 432x288 with 1 Axes>"
      ]
     },
     "metadata": {},
     "output_type": "display_data"
    }
   ],
   "source": [
    "plt.style.use('dark_background')\n",
    "plt.loglog([2,5,10,20,40,60,80,100,160,200,220,300,500], [3.5877433, 3.8702652, 4.36660231, 5.1585568478, 5.50923622,\\\n",
    "    4.81898365,3.908997649,3.18534314943,2.2218635416,1.62684690276,1.36766174866,0.946393595391,0.397180244], '*', label=r'OurApprox')\n",
    "plt.loglog(l_limber_array, Cl_Limber_array*1e6, '--', label=r'Limber')\n",
    "plt.loglog(l_Assassi, np.array(Cl_Assassi)*1e6,'-.', label=r'AssassiApprox')\n",
    "plt.ylim(0.3,10)\n",
    "plt.xlim(2,500)\n",
    "plt.legend()\n",
    "plt.xlabel(r'$\\ell$',fontsize=15)\n",
    "plt.ylabel(r'$C_{\\ell}^{g}\\ (\\times 10^6)$', fontsize=15)\n",
    "plt.xticks(fontsize=15)\n",
    "plt.yticks(fontsize=15)\n",
    "plt.title(r'For $\\rm z_1=z_2=1.0\\ and\\ \\sigma_z=0.05$')\n",
    "plt.show()"
   ]
  },
  {
   "cell_type": "markdown",
   "metadata": {},
   "source": []
  },
  {
   "cell_type": "code",
   "execution_count": null,
   "metadata": {},
   "outputs": [],
   "source": [
    "#Now it seems that properly choosing the range of delta_chi is very important\n",
    "#We don't need to choose so many large delta_chi in actual calculation, rather, we need to sample more delta_chi smaller than 100 Mpc/h"
   ]
  },
  {
   "cell_type": "markdown",
   "metadata": {},
   "source": [
    "### **Limber's Approximation of Galaxy Clustering:**"
   ]
  },
  {
   "cell_type": "code",
   "execution_count": 100,
   "metadata": {},
   "outputs": [
    {
     "name": "stdout",
     "output_type": "stream",
     "text": [
      "3410.7039317497915 [Mpc]\n",
      "2288.9234085972853 [Mpc/h]\n"
     ]
    }
   ],
   "source": [
    "#Before we move on to calculate Equation (33), we can calculate our version of Limber's approximation \n",
    "\n",
    "#The unit of our 1D integral is (Mpc)^2/h^3, so to adjust the amplitude, in addition divide a factor of FSC.h\n",
    "#Re-check the comoving distance\n",
    "z_array = np.array([0.1+0.1*i for i in range(20)])\n",
    "print(FSC.chi(1),'[Mpc]')\n",
    "print(FSC.chi(1)*FSC.h,'[Mpc/h]')\n",
    "\n"
   ]
  },
  {
   "cell_type": "code",
   "execution_count": 9,
   "metadata": {},
   "outputs": [],
   "source": [
    "def Wg(chi, chi_avg, chi_sigma):\n",
    "    '''\n",
    "    Here we consider a Gaussian window function\n",
    "    '''\n",
    "    term1 = 1/(np.sqrt(2*np.pi))/chi_sigma\n",
    "    term2 = np.exp(-(chi-chi_avg)**2/(2*chi_sigma**2))\n",
    "    return term1*term2\n",
    "def Kernel_Limber(l, chi, chi_avg, chi_sigma):\n",
    "    \n",
    "    kh_min, kh_max = kh_par_min_max(l, chi)\n",
    "    W1 = Wg(chi, chi_avg, chi_sigma)\n",
    "    W2 = W1\n",
    "    C = Power_spectrum(kh_par=0, l=l, chi=chi, delta_chi=0)\n",
    "    return W1*W2*C\n",
    "def Cn_Limber(l, chi_avg, chi_sigma, chi_min, chi_max):\n",
    "\n",
    "    def integrand(chi):\n",
    "        return Kernel_Limber(l,chi, chi_avg, chi_sigma)/(chi**2)\n",
    "    \n",
    "    return quad(integrand, chi_min, chi_max)[0]"
   ]
  },
  {
   "cell_type": "code",
   "execution_count": 10,
   "metadata": {},
   "outputs": [],
   "source": [
    "l_limber_array = np.array([i for i in range(2,100)]+[100+10*i for i in range(40)])\n",
    "Cl_Limber_array = np.array([Cn_Limber(l, chi_avg1, chi_sigma1, chi_min, chi_max) for l in l_limber_array])\n"
   ]
  },
  {
   "cell_type": "code",
   "execution_count": 7,
   "metadata": {},
   "outputs": [
    {
     "data": {
      "image/png": "[encoded data removed]",
      "text/plain": [
       "<Figure size 432x288 with 1 Axes>"
      ]
     },
     "metadata": {
      "needs_background": "light"
     },
     "output_type": "display_data"
    }
   ],
   "source": [
    "plt.loglog(l_limber_array, Cl_Limber_array*1e6)\n",
    "plt.ylim(0.3,10)\n",
    "plt.xlim(2,500)\n",
    "plt.xlabel(r'$\\ell$',fontsize=15)\n",
    "plt.ylabel(r'$C_{\\ell}^{g}\\ (\\times 10^6)$', fontsize=15)\n",
    "plt.xticks(fontsize=15)\n",
    "plt.yticks(fontsize=15)\n",
    "plt.title(r'Limber for $\\rm z_1=z_2=1.0\\ and\\ \\sigma_z=0.05$')\n",
    "plt.show()"
   ]
  },
  {
   "cell_type": "code",
   "execution_count": null,
   "metadata": {},
   "outputs": [],
   "source": []
  }
 ],
 "metadata": {
  "interpreter": {
   "hash": "1dfc1b189fe41f49f4ec529a969f8793a0e605c19ca7f05b20b8644091327c21"
  },
  "kernelspec": {
   "display_name": "Python 3.7.3 64-bit ('base': conda)",
   "language": "python",
   "name": "python3"
  },
  "language_info": {
   "codemirror_mode": {
    "name": "ipython",
    "version": 3
   },
   "file_extension": ".py",
   "mimetype": "text/x-python",
   "name": "python",
   "nbconvert_exporter": "python",
   "pygments_lexer": "ipython3",
   "version": "3.7.3"
  }
 },
 "nbformat": 4,
 "nbformat_minor": 2
}
